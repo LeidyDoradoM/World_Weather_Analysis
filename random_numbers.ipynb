{
 "cells": [
  {
   "cell_type": "code",
   "execution_count": 1,
   "id": "d51cb0cb",
   "metadata": {},
   "outputs": [],
   "source": [
    "# Import the random module.\n",
    "import random"
   ]
  },
  {
   "cell_type": "code",
   "execution_count": 3,
   "id": "fab40276",
   "metadata": {},
   "outputs": [
    {
     "data": {
      "text/plain": [
       "57"
      ]
     },
     "execution_count": 3,
     "metadata": {},
     "output_type": "execute_result"
    }
   ],
   "source": [
    "# generate a random integer number between -89 to 90\n",
    "random.randint(-90, 90)"
   ]
  },
  {
   "cell_type": "code",
   "execution_count": 5,
   "id": "9b5c60cc",
   "metadata": {},
   "outputs": [
    {
     "data": {
      "text/plain": [
       "0.1786277694716336"
      ]
     },
     "execution_count": 5,
     "metadata": {},
     "output_type": "execute_result"
    }
   ],
   "source": [
    "# generate a random number between 0 to 1\n",
    "random.random()"
   ]
  },
  {
   "cell_type": "code",
   "execution_count": 7,
   "id": "4ffff1ef",
   "metadata": {},
   "outputs": [
    {
     "data": {
      "text/plain": [
       "71.70602308633012"
      ]
     },
     "execution_count": 7,
     "metadata": {},
     "output_type": "execute_result"
    }
   ],
   "source": [
    "# combining the two functions random and randint we can generate a random number between -89,89 that can be used as a\n",
    "# random latitude\n",
    "random_number = random.randint(-90,89) + random.random()\n",
    "random_number"
   ]
  },
  {
   "cell_type": "code",
   "execution_count": 8,
   "id": "16996602",
   "metadata": {},
   "outputs": [],
   "source": [
    "# Algorithm to generate random latitude\n",
    "x = 1\n",
    "latitudes = []\n",
    "while x < 11:\n",
    "    random_lat = random.randint(-90, 89) + random.random()\n",
    "    latitudes.append(random_lat)\n",
    "    x += 1"
   ]
  },
  {
   "cell_type": "code",
   "execution_count": 9,
   "id": "51fbf4bc",
   "metadata": {},
   "outputs": [
    {
     "data": {
      "text/plain": [
       "[-63.02362940077817,\n",
       " -12.32372614658839,\n",
       " 55.75206468210951,\n",
       " 77.18897404132058,\n",
       " -65.63628109520764,\n",
       " -75.73589990736915,\n",
       " -37.23774222329683,\n",
       " 72.23796729902142,\n",
       " -44.99961111106437,\n",
       " 60.14563592452406]"
      ]
     },
     "execution_count": 9,
     "metadata": {},
     "output_type": "execute_result"
    }
   ],
   "source": [
    "latitudes"
   ]
  },
  {
   "cell_type": "code",
   "execution_count": 40,
   "id": "07f1b9ed",
   "metadata": {},
   "outputs": [
    {
     "data": {
      "text/plain": [
       "-40"
      ]
     },
     "execution_count": 40,
     "metadata": {},
     "output_type": "execute_result"
    }
   ],
   "source": [
    "# generate a random integer number between a range, and step is the difference between numbers in the sequence.\n",
    "random.randrange(-90, 90, step=50)\n"
   ]
  },
  {
   "cell_type": "code",
   "execution_count": 31,
   "id": "80e938a8",
   "metadata": {},
   "outputs": [
    {
     "data": {
      "text/plain": [
       "63.198753330475625"
      ]
     },
     "execution_count": 31,
     "metadata": {},
     "output_type": "execute_result"
    }
   ],
   "source": [
    "#generate a floating-point decimal number between two given numbers inside the parentheses.\n",
    "random.uniform(-90, 90) "
   ]
  },
  {
   "cell_type": "code",
   "execution_count": 13,
   "id": "ace8f220",
   "metadata": {},
   "outputs": [],
   "source": [
    "# Import the NumPy module, we need this module because we need to generate 1500 latitudes and longitudes...we are going \n",
    "#to work with arrays\n",
    "import numpy as np"
   ]
  },
  {
   "cell_type": "code",
   "execution_count": 14,
   "id": "7495af58",
   "metadata": {},
   "outputs": [
    {
     "data": {
      "text/plain": [
       "-22.136751014999717"
      ]
     },
     "execution_count": 14,
     "metadata": {},
     "output_type": "execute_result"
    }
   ],
   "source": [
    "np.random.uniform(-90.000, 90.000)"
   ]
  },
  {
   "cell_type": "code",
   "execution_count": 15,
   "id": "7ba2adb6",
   "metadata": {},
   "outputs": [
    {
     "data": {
      "text/plain": [
       "array([ 40.39536942,  75.33248455, -77.41271602,   7.0807002 ,\n",
       "        72.59274699,   1.32250266, -12.54696519,  -2.6173765 ,\n",
       "       -44.32735228,  53.7242437 ,  68.68331626,   3.03457797,\n",
       "        -9.76345923, -27.7533159 , -80.16641675, -52.62590195,\n",
       "        25.34164911,  79.54158837, -62.28054713, -61.64515149,\n",
       "        72.07830197,  42.76865344, -19.07464597, -52.59094916,\n",
       "        55.29479732,  -9.61466863,  73.48506536,  27.36428338,\n",
       "        29.07724317, -82.73741492,  62.17158622, -32.74562364,\n",
       "        22.99821667, -20.16862305, -43.31387496,  13.98931811,\n",
       "       -27.37842686,  52.56987443,  74.0599518 ,  -1.52842327,\n",
       "        38.57765389,  86.99505971,  70.29809282,  57.98010123,\n",
       "         8.14494155, -46.38857418,  15.49958538, -62.83398371,\n",
       "       -75.31166284,  57.60775544])"
      ]
     },
     "execution_count": 15,
     "metadata": {},
     "output_type": "execute_result"
    }
   ],
   "source": [
    "# to generate more than one number, we can use the parameter size that np module allows us to have.\n",
    "np.random.uniform(-90.000, 90.000, size=50)"
   ]
  },
  {
   "cell_type": "code",
   "execution_count": 16,
   "id": "bbfb6f6e",
   "metadata": {},
   "outputs": [],
   "source": [
    "# Import timeit. To see how long a code o part of it takes to run\n",
    "import timeit"
   ]
  },
  {
   "cell_type": "code",
   "execution_count": 18,
   "id": "eaf6644c",
   "metadata": {},
   "outputs": [
    {
     "name": "stdout",
     "output_type": "stream",
     "text": [
      "12.1 µs ± 100 ns per loop (mean ± std. dev. of 7 runs, 100000 loops each)\n"
     ]
    }
   ],
   "source": [
    "#it shows the time it takes to run random.uniform that generates 1500 random numbers between -90,90\n",
    "%timeit np.random.uniform(-90.000, 90.000, size=1500)"
   ]
  },
  {
   "cell_type": "code",
   "execution_count": 19,
   "id": "b4d96c6b",
   "metadata": {},
   "outputs": [
    {
     "name": "stdout",
     "output_type": "stream",
     "text": [
      "1.41 ms ± 10.4 µs per loop (mean ± std. dev. of 7 runs, 1000 loops each)\n"
     ]
    }
   ],
   "source": [
    "# generates 1500 random latitudes. This is a function called latitudes\n",
    "def latitudes(size):\n",
    "    latitudes = []\n",
    "    x = 0\n",
    "    while x < (size):\n",
    "        random_lat = random.randint(-90, 90) + random.random()\n",
    "        latitudes.append(random_lat)\n",
    "        x += 1\n",
    "    return latitudes\n",
    "# Call the function with 1500.\n",
    "%timeit latitudes(1500)"
   ]
  },
  {
   "cell_type": "code",
   "execution_count": 20,
   "id": "e1846b58",
   "metadata": {},
   "outputs": [],
   "source": [
    "# random.uniform is 100 faster than function latitudes that uses random.randint"
   ]
  },
  {
   "cell_type": "code",
   "execution_count": 41,
   "id": "3878b2dd",
   "metadata": {},
   "outputs": [
    {
     "name": "stdout",
     "output_type": "stream",
     "text": [
      "1.39 ms ± 28.5 µs per loop (mean ± std. dev. of 7 runs, 1000 loops each)\n"
     ]
    }
   ],
   "source": [
    "# the same function using for loop. Is there some difference?\n",
    "def latitudes(size):\n",
    "    latitudes = []\n",
    "    for x in range(size-1):\n",
    "        random_lat = random.randint(-90, 90) + random.random()\n",
    "        latitudes.append(random_lat)\n",
    "    return latitudes\n",
    "# Call the function with 1500.\n",
    "%timeit latitudes(1500)"
   ]
  },
  {
   "cell_type": "code",
   "execution_count": null,
   "id": "29448b0b",
   "metadata": {},
   "outputs": [],
   "source": []
  }
 ],
 "metadata": {
  "kernelspec": {
   "display_name": "PythonData",
   "language": "python",
   "name": "pythondata"
  },
  "language_info": {
   "codemirror_mode": {
    "name": "ipython",
    "version": 3
   },
   "file_extension": ".py",
   "mimetype": "text/x-python",
   "name": "python",
   "nbconvert_exporter": "python",
   "pygments_lexer": "ipython3",
   "version": "3.7.11"
  }
 },
 "nbformat": 4,
 "nbformat_minor": 5
}
